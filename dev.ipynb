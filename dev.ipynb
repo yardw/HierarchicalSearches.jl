{
 "cells": [
  {
   "cell_type": "markdown",
   "metadata": {},
   "source": [
    "# Layer: Base"
   ]
  },
  {
   "cell_type": "code",
   "execution_count": null,
   "metadata": {},
   "outputs": [],
   "source": [
    "\"\"\"\n",
    "    responsibilitychain(handlers::Vector{Function})::Function \n",
    "\n",
    "Generate a Chain of Responsibility, which return a function that deal with a keyword request by handlers in order.\n",
    "Any handler is a of function, which take a request and return a response or nothing.\n",
    "If a handler return a response, the response will be returned and the rest handlers will be skipped.\n",
    "If a handler return nothing, the next handler will be called.\n",
    "# Examples\n",
    "```jldoctest\n",
    "julia> function handler1(; request...)\n",
    "           println(\"handler1\")\n",
    "           return nothing\n",
    "       end\n",
    "julia> function handler2(; request...)\n",
    "           println(\"handler2\")\n",
    "           return \"response\"\n",
    "       end\n",
    "julia> function handler3(; request...)\n",
    "           println(\"handler3\")\n",
    "           return \"unexpected response\"\n",
    "       end\n",
    "julia> handle = responsibilitychain([handler1, handler2, handler3])\n",
    "julia> handle()\n",
    "\"handler1\"\n",
    "\"handler2\"\n",
    "\"response\"\n",
    "```\n",
    "# Tricky Realization\n",
    "```jldoctest\n",
    "julia> handle = foldl(||, handlers)\n",
    "```\n",
    "- in this case, simple handlers return either true or false. If a handler return true, the remaining handlers will be skipped because true || anything is true.\n",
    "- in this case, no response can be returned.\n",
    "\"\"\"\n",
    "function responsibilitychain(handlers::Vector{Function})::Function\n",
    "    function handle(; request...)\n",
    "        for handler in handlers\n",
    "            response = handler(; request...)\n",
    "            isnothing(response) ? continue : return response\n",
    "        end\n",
    "    end\n",
    "    return handle\n",
    "end\n"
   ]
  },
  {
   "cell_type": "code",
   "execution_count": null,
   "metadata": {},
   "outputs": [],
   "source": [
    "abstract type Graph end\n",
    "abstract type GraphStyle end\n",
    "struct UnknownGraphStyle <: GraphStyle end\n",
    "function adjacent end\n",
    "function priority end\n",
    "style(g::Graph) = UnknownGraphStyle()\n",
    "function adjacent(::UnknownGraphStyle)\n",
    "    @error \"UnknownGraphStyle\"\n",
    "end\n",
    "Base.BroadcastStyle"
   ]
  },
  {
   "cell_type": "markdown",
   "metadata": {},
   "source": [
    "> No virtual methods support, since for scientific computing, the performance penalty of virtual methods is too high."
   ]
  },
  {
   "cell_type": "markdown",
   "metadata": {},
   "source": [
    "> However, dispatch + type comprehension = virtual methods. One example is the broadcast functions in Base.\n",
    "- Details:\n",
    "    - "
   ]
  },
  {
   "cell_type": "code",
   "execution_count": null,
   "metadata": {},
   "outputs": [],
   "source": [
    "\"\"\"\n",
    "The threading macro is like a more flexible version of the [`|>`](@ref) operator.\n",
    "\n",
    "    @> x f = f(x)\n",
    "    @> x g f == f(g(x))\n",
    "    @> x a b c d e == e(d(c(b(a(x)))))\n",
    "\n",
    "Unlike [`|>`](@ref), functions can have arguments - the value\n",
    "preceding a function will be treated as its first argument\n",
    "\n",
    "    @> x g(y, z) f == f(g(x, y, z))\n",
    "\n",
    "    @> x g f(y, z) == f(g(x), y, z)\n",
    "\n",
    "See Lazy.jl.\n",
    "\"\"\"\n",
    "macro >(exs...)\n",
    "    thread(x) = isexpr(x, :block) ? thread(rmlines(x).args...) : x\n",
    "  \n",
    "    @static if VERSION < v\"0.7\"\n",
    "  \n",
    "      thread(x, ex) =\n",
    "      isexpr(ex, :call, :macrocall) ? Expr(ex.head, ex.args[1], x, ex.args[2:end]...) :\n",
    "      @capture(ex, f_.(xs__))       ? :($f.($x, $(xs...))) :\n",
    "      isexpr(ex, :block)            ? thread(x, rmlines(ex).args...) :\n",
    "      Expr(:call, ex, x)\n",
    "  \n",
    "    else\n",
    "  \n",
    "      thread(x, ex) =\n",
    "      isexpr(ex, :macrocall)        ? Expr(ex.head, ex.args[1], ex.args[2], x, ex.args[3:end]...) :\n",
    "      isexpr(ex, :call,)            ? Expr(ex.head, ex.args[1], x, ex.args[2:end]...) :\n",
    "      @capture(ex, f_.(xs__))       ? :($f.($x, $(xs...))) :\n",
    "      isexpr(ex, :block)            ? thread(x, rmlines(ex).args...) :\n",
    "      Expr(:call, ex, x)\n",
    "  \n",
    "    end\n",
    "  \n",
    "    thread(x, exs...) = reduce(thread, exs, init=x)\n",
    "  \n",
    "    esc(thread(exs...))\n",
    "  end\n",
    "  "
   ]
  },
  {
   "cell_type": "markdown",
   "metadata": {},
   "source": [
    "# Layer: Logic"
   ]
  },
  {
   "cell_type": "markdown",
   "metadata": {},
   "source": [
    "# Layer: Application"
   ]
  },
  {
   "cell_type": "markdown",
   "metadata": {},
   "source": [
    "# Layer: Test"
   ]
  },
  {
   "cell_type": "markdown",
   "metadata": {},
   "source": [
    "## dependency test"
   ]
  },
  {
   "cell_type": "code",
   "execution_count": 56,
   "metadata": {},
   "outputs": [
    {
     "name": "stdout",
     "output_type": "stream",
     "text": [
      "Base.method_argnames(method) = [Symbol(\"#self#\"), :dumb]\n",
      "Base.kwarg_decl(method) = [:a, :b]\n",
      "\u001b[0m\u001b[1mTest Summary:                      | \u001b[22m\u001b[32m\u001b[1mPass  \u001b[22m\u001b[39m\u001b[36m\u001b[1mTotal  \u001b[22m\u001b[39m\u001b[0m\u001b[1mTime\u001b[22m\n",
      "find all methods mathing arguments | \u001b[32m   3  \u001b[39m\u001b[36m    3  \u001b[39m\u001b[0m0.0s\n"
     ]
    },
    {
     "data": {
      "text/plain": [
       "Test.DefaultTestSet(\"find all methods mathing arguments\", Any[], 3, false, false, true, 1.704099050096e9, 1.704099050108e9, false)"
      ]
     },
     "metadata": {},
     "output_type": "display_data"
    }
   ],
   "source": [
    "using Test\n",
    "@testset \"find all methods mathing arguments\" begin\n",
    "    # methods returns a vector of methods matching arguments\n",
    "    @test first(methods(+, (Int, Int))) == @which 1 + 1 \n",
    "    # if no method matches, methods returns an empty vector\n",
    "    @test isempty(methods(+, (Int, String)))\n",
    "    # typeof can be used to get the type of given arguments\n",
    "    @test isempty(methods(\n",
    "        +, typeof.((1,\"a\"))\n",
    "        ))\n",
    "    # test a user defined function which takes keyword arguments\n",
    "    foo(dumb; a::Int=nothing, b) = a + b\n",
    "    method = first(methods(foo))\n",
    "    @show Base.method_argnames(method)\n",
    "    # @test method == @which foo(;a=1, b=2)\n",
    "    @show Base.kwarg_decl(method)\n",
    "    # @show keys((;a=1, b=2))\n",
    "    # @show eltype((;a=1, b=2))\n",
    "    # @show methods(foo)\n",
    "    # args = (; a=1, b=2)\n",
    "    # @show methods(foo, (;typeof(args)...))\n",
    "    # @show @which foo(;a=1, b=2)\n",
    "    # @test first(methods(foo, @show typeof((;a=1, b=2))) ) == @show @which foo(;a=1, b=2)\n",
    "end"
   ]
  },
  {
   "cell_type": "code",
   "execution_count": 57,
   "metadata": {},
   "outputs": [
    {
     "name": "stdout",
     "output_type": "stream",
     "text": [
      "can for loop return a value?: \u001b[91m\u001b[1mTest Failed\u001b[22m\u001b[39m at \u001b[39m\u001b[1ml:\\Sieg\\Doc\\Code\\julia\\HierarchicalSearches.jl\\dev.ipynb:9\u001b[22m\n",
      "  Expression: foo() == 5\n",
      "   Evaluated: nothing == 5\n",
      "\n",
      "Stacktrace:\n",
      " [1] \u001b[0m\u001b[1mmacro expansion\u001b[22m\n",
      "\u001b[90m   @\u001b[39m \u001b[90mC:\\Users\\Acer\\AppData\\Local\\Programs\\Julia-1.9.0\\share\\julia\\stdlib\\v1.9\\Test\\src\\\u001b[39m\u001b[90m\u001b[4mTest.jl:478\u001b[24m\u001b[39m\u001b[90m [inlined]\u001b[39m\n",
      " [2] \u001b[0m\u001b[1mmacro expansion\u001b[22m\n",
      "\u001b[90m   @\u001b[39m \u001b[90ml:\\Sieg\\Doc\\Code\\julia\\HierarchicalSearches.jl\\\u001b[39m\u001b[90m\u001b[4mdev.ipynb:9\u001b[24m\u001b[39m\u001b[90m [inlined]\u001b[39m\n",
      " [3] \u001b[0m\u001b[1mmacro expansion\u001b[22m\n",
      "\u001b[90m   @\u001b[39m \u001b[90mC:\\Users\\Acer\\AppData\\Local\\Programs\\Julia-1.9.0\\share\\julia\\stdlib\\v1.9\\Test\\src\\\u001b[39m\u001b[90m\u001b[4mTest.jl:1498\u001b[24m\u001b[39m\u001b[90m [inlined]\u001b[39m\n",
      " [4]"
     ]
    },
    {
     "name": "stdout",
     "output_type": "stream",
     "text": [
      " top-level scope\n",
      "\u001b[90m   @\u001b[39m \u001b[90ml:\\Sieg\\Doc\\Code\\julia\\HierarchicalSearches.jl\\\u001b[39m\u001b[90m\u001b[4mdev.ipynb:2\u001b[24m\u001b[39m\n",
      "\u001b[0m\u001b[1mTest Summary:                | \u001b[22m\u001b[91m\u001b[1mFail  \u001b[22m\u001b[39m\u001b[36m\u001b[1mTotal  \u001b[22m\u001b[39m\u001b[0m\u001b[1mTime\u001b[22m\n",
      "can for loop return a value? | \u001b[91m   1  \u001b[39m\u001b[36m    1  \u001b[39m\u001b[0m0.2s\n"
     ]
    },
    {
     "ename": "TestSetException",
     "evalue": "Some tests did not pass: 0 passed, 1 failed, 0 errored, 0 broken.",
     "output_type": "error",
     "traceback": [
      "Some tests did not pass: 0 passed, 1 failed, 0 errored, 0 broken.\n",
      "\n",
      "Stacktrace:\n",
      " [1] finish(ts::Test.DefaultTestSet)\n",
      "   @ Test C:\\Users\\Acer\\AppData\\Local\\Programs\\Julia-1.9.0\\share\\julia\\stdlib\\v1.9\\Test\\src\\Test.jl:1151\n",
      " [2] macro expansion\n",
      "   @ C:\\Users\\Acer\\AppData\\Local\\Programs\\Julia-1.9.0\\share\\julia\\stdlib\\v1.9\\Test\\src\\Test.jl:1514 [inlined]\n",
      " [3] top-level scope\n",
      "   @ l:\\Sieg\\Doc\\Code\\julia\\HierarchicalSearches.jl\\dev.ipynb:2"
     ]
    }
   ],
   "source": [
    "@testset \"can for loop return a value?\" begin\n",
    "    function foo()\n",
    "        n = for i in 1:10\n",
    "            if i == 5\n",
    "                break\n",
    "            end\n",
    "        end\n",
    "    end\n",
    "    @test foo() == 5\n",
    "end"
   ]
  },
  {
   "cell_type": "code",
   "execution_count": 59,
   "metadata": {},
   "outputs": [
    {
     "data": {
      "text/plain": [
       "2"
      ]
     },
     "metadata": {},
     "output_type": "display_data"
    }
   ],
   "source": [
    "using Lazy\n",
    "@> 1 +(1)"
   ]
  },
  {
   "cell_type": "markdown",
   "metadata": {},
   "source": [
    "## development test"
   ]
  },
  {
   "cell_type": "code",
   "execution_count": null,
   "metadata": {},
   "outputs": [],
   "source": [
    "abstract type Graphs end"
   ]
  },
  {
   "cell_type": "code",
   "execution_count": null,
   "metadata": {},
   "outputs": [],
   "source": [
    "struct TopoGraphs <: Graphs\n",
    "    vertices::Set{Int}\n",
    "    edges::Dict{Int, Set{Int}}\n",
    "end\n",
    "import Base: getindex\n",
    "getindex(g::TopoGraphs, i::Int) = g.edges[i]\n",
    "function dfs(graph::TopoGraphs, start::Int)\n",
    "    visited = Set{Int}()\n",
    "    sizehint!(visited, length(graph.vertices))\n",
    "    stack = [start]\n",
    "    while !isempty(stack)\n",
    "        node = pop!(stack)\n",
    "        if node in visited continue end\n",
    "        push!(visited, node)\n",
    "        for neighbor in graph[node]\n",
    "            push!(stack, neighbor)\n",
    "        end\n",
    "    end\n",
    "    return visited\n",
    "end\n",
    "LazyArrays"
   ]
  },
  {
   "cell_type": "code",
   "execution_count": 7,
   "metadata": {},
   "outputs": [
    {
     "name": "stdout",
     "output_type": "stream",
     "text": [
      "\u001b[0m\u001b[1mTest Summary: | \u001b[22m\u001b[32m\u001b[1mPass  \u001b[22m\u001b[39m\u001b[36m\u001b[1mTotal  \u001b[22m\u001b[39m\u001b[0m\u001b[1mTime\u001b[22m"
     ]
    },
    {
     "name": "stdout",
     "output_type": "stream",
     "text": [
      "\n",
      "dfs tests     | \u001b[32m   3  \u001b[39m\u001b[36m    3  \u001b[39m\u001b[0m0.0s\n"
     ]
    },
    {
     "data": {
      "text/plain": [
       "Test.DefaultTestSet(\"dfs tests\", Any[Test.DefaultTestSet(\"dfs from vertex 1\", Any[], 1, false, false, true, 1.704047495808e9, 1.704047495833e9, false), Test.DefaultTestSet(\"dfs from vertex 2\", Any[], 1, false, false, true, 1.704047495833e9, 1.704047495833e9, false), Test.DefaultTestSet(\"dfs from vertex 3\", Any[], 1, false, false, true, 1.704047495833e9, 1.704047495833e9, false)], 0, false, false, true, 1.704047495808e9, 1.704047495833e9, false)"
      ]
     },
     "metadata": {},
     "output_type": "display_data"
    }
   ],
   "source": [
    "using Test\n",
    "@testset \"dfs tests\" begin\n",
    "    g = TopoGraphs(Set([1, 2, 3, 4, 5]), Dict(1 => Set([2, 3]), 2 => Set([4]), 3 => Set([5]), 4 => Set([]), 5 => Set([])))\n",
    "\n",
    "    @testset \"dfs from vertex 1\" begin\n",
    "        # Assuming dfs returns a list of visited vertices in the order they were visited\n",
    "        @test dfs(g, 1) == Set([5, 4, 2, 3, 1])\n",
    "    end\n",
    "\n",
    "    @testset \"dfs from vertex 2\" begin\n",
    "        @test dfs(g, 2) == Set([2, 4])\n",
    "    end\n",
    "\n",
    "    @testset \"dfs from vertex 3\" begin\n",
    "        @test dfs(g, 3) == Set([3, 5])\n",
    "    end\n",
    "end"
   ]
  },
  {
   "cell_type": "code",
   "execution_count": 5,
   "metadata": {},
   "outputs": [
    {
     "data": {
      "text/plain": [
       "Set{Int64} with 3 elements:\n",
       "  2\n",
       "  3\n",
       "  1"
      ]
     },
     "metadata": {},
     "output_type": "display_data"
    }
   ],
   "source": [
    "struct LatticeGraphs <: Graphs\n",
    "    lattice::AbstractMatrix\n",
    "end\n",
    "import Base: getindex\n",
    "getindex(g::LatticeGraphs, i::CartesianIndex) = g.lattice[i]"
   ]
  }
 ],
 "metadata": {
  "kernelspec": {
   "display_name": "Julia 1.9.0",
   "language": "julia",
   "name": "julia-1.9"
  },
  "language_info": {
   "file_extension": ".jl",
   "mimetype": "application/julia",
   "name": "julia",
   "version": "1.9.0"
  }
 },
 "nbformat": 4,
 "nbformat_minor": 2
}
