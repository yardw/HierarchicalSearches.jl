{
 "cells": [
  {
   "cell_type": "code",
   "execution_count": 1,
   "metadata": {},
   "outputs": [],
   "source": [
    "using Revise"
   ]
  },
  {
   "cell_type": "markdown",
   "metadata": {},
   "source": [
    "# Tests"
   ]
  },
  {
   "cell_type": "code",
   "execution_count": 4,
   "metadata": {},
   "outputs": [
    {
     "name": "stderr",
     "output_type": "stream",
     "text": [
      "WARNING: replacing module GoldbergerWiseEoM.\n"
     ]
    },
    {
     "ename": "LoadError",
     "evalue": "LoadError: UndefVarError: Consts not defined\n\nSome of the types have been truncated in the stacktrace for improved reading. To emit complete information\nin the stack trace, evaluate `TruncatedStacktraces.VERBOSE[] = true` and re-run the code.\n\nin expression starting at /Users/outk/Documents/Codes/Julia/ModuliSpaces.jl/example/GoldbergerWise/eom.jl:3",
     "output_type": "error",
     "traceback": [
      "LoadError: UndefVarError: Consts not defined\n",
      "\n",
      "Some of the types have been truncated in the stacktrace for improved reading. To emit complete information\n",
      "in the stack trace, evaluate `TruncatedStacktraces.VERBOSE[] = true` and re-run the code.\n",
      "\n",
      "in expression starting at /Users/outk/Documents/Codes/Julia/ModuliSpaces.jl/example/GoldbergerWise/eom.jl:3\n",
      "\n",
      "Stacktrace:\n",
      " [1] include(fname::String)\n",
      "   @ Base.MainInclude ./client.jl:476\n",
      " [2] top-level scope\n",
      "   @ ~/Documents/Codes/Julia/ModuliSpaces.jl/example/GoldbergerWise/dev.ipynb:1"
     ]
    }
   ],
   "source": [
    "include(\"eom.jl\")"
   ]
  },
  {
   "cell_type": "code",
   "execution_count": 2,
   "metadata": {},
   "outputs": [
    {
     "name": "stdout",
     "output_type": "stream",
     "text": [
      "Test Consts module: \u001b[91m\u001b[1mError During Test\u001b[22m\u001b[39m at "
     ]
    },
    {
     "name": "stdout",
     "output_type": "stream",
     "text": [
      "\u001b[39m\u001b[1m/Users/outk/Documents/Codes/Julia/ModuliSpaces.jl/example/GoldbergerWise/dev.ipynb:3\u001b[22m\n",
      "  Got exception outside of a @test\n",
      "  ArgumentError: Package GoldbergerWiseEoM not found in current path.\n",
      "  - Run `import Pkg; Pkg.add(\"GoldbergerWiseEoM\")` to install the GoldbergerWiseEoM package.\n",
      "  Stacktrace:\n",
      "    [1] \u001b[0m\u001b[1mmacro expansion\u001b[22m\n",
      "  \u001b[90m    @ \u001b[39m\u001b[90m./\u001b[39m\u001b[90m\u001b[4mloading.jl:1163\u001b[24m\u001b[39m\u001b[90m [inlined]\u001b[39m\n",
      "    [2] \u001b[0m\u001b[1mmacro expansion\u001b[22m\n",
      "  \u001b[90m    @ \u001b[39m\u001b[90m./\u001b[39m\u001b[90m\u001b[4mlock.jl:223\u001b[24m\u001b[39m\u001b[90m [inlined]\u001b[39m\n",
      "    [3] \u001b[0m\u001b[1mrequire\u001b[22m\u001b[0m\u001b[1m(\u001b[22m\u001b[90minto\u001b[39m::\u001b[0mModule, \u001b[90mmod\u001b[39m::\u001b[0mSymbol\u001b[0m\u001b[1m)\u001b[22m\n",
      "  \u001b[90m    @ \u001b[39m\u001b[90mBase\u001b[39m \u001b[90m./\u001b[39m\u001b[90m\u001b[4mloading.jl:1144\u001b[24m\u001b[39m\n",
      "    [4] \u001b[0m\u001b[1mmacro expansion\u001b[22m\n",
      "  \u001b[90m    @ \u001b[39m\u001b[90m~/Documents/Codes/Julia/ModuliSpaces.jl/example/GoldbergerWise/\u001b[39m\u001b[90m\u001b[4mdev.ipynb:4\u001b[24m\u001b[39m\u001b[90m [inlined]\u001b[39m\n",
      "    [5] \u001b[0m\u001b[1mmacro expansion\u001b[22m\n",
      "  \u001b[90m    @ \u001b[39m\u001b[90m/Applications/Julia-1.8.app/Contents/Resources/julia/share/julia/stdlib/v1.8/Test/src/\u001b[39m\u001b[90m\u001b[4mTest.jl:1357\u001b[24m\u001b[39m\u001b[90m [inlined]\u001b[39m\n",
      "    [6] top-level scope\n",
      "  \u001b[90m    @ \u001b[39m\u001b[90m~/Documents/Codes/Julia/ModuliSpaces.jl/example/GoldbergerWise/\u001b[39m\u001b[90m\u001b[4mdev.ipynb:4\u001b[24m\u001b[39m\n",
      "    [7] \u001b[0m\u001b[1meval\u001b[22m\n",
      "  \u001b[90m    @ \u001b[39m\u001b[90m./\u001b[39m\u001b[90m\u001b[4mboot.jl:368\u001b[24m\u001b[39m\u001b[90m [inlined]\u001b[39m\n",
      "    [8] \u001b[0m\u001b[1minclude_string\u001b[22m\u001b[0m\u001b[1m(\u001b[22m\u001b[90mmapexpr\u001b[39m::\u001b[0mtypeof(REPL.softscope), \u001b[90mmod\u001b[39m::\u001b[0mModule, \u001b[90mcode\u001b[39m::\u001b[0mString, \u001b[90mfilename\u001b[39m::\u001b[0mString\u001b[0m\u001b[1m)\u001b[22m\n",
      "  \u001b[90m    @ \u001b[39m\u001b[90mBase\u001b[39m \u001b[90m./\u001b[39m\u001b[90m\u001b[4mloading.jl:1428\u001b[24m\u001b[39m\n",
      "    [9] \u001b[0m\u001b[1m#invokelatest#2\u001b[22m\n",
      "  \u001b[90m    @ \u001b[39m\u001b[90m./\u001b[39m\u001b[90m\u001b[4messentials.jl:729\u001b[24m\u001b[39m\u001b[90m [inlined]\u001b[39m\n",
      "   [10] \u001b[0m\u001b[1minvokelatest\u001b[22m\n",
      "  \u001b[90m    @ \u001b[39m\u001b[90m./\u001b[39m\u001b[90m\u001b[4messentials.jl:726\u001b[24m\u001b[39m\u001b[90m [inlined]\u001b[39m\n",
      "   [11] \u001b[0m\u001b[1m(::VSCodeServer.var\"#208#209\"{VSCodeServer.NotebookRunCellArguments, String})\u001b[22m\u001b[0m\u001b[1m(\u001b[22m\u001b[0m\u001b[1m)\u001b[22m\n",
      "  \u001b[90m    @ \u001b[39m\u001b[35mVSCodeServer\u001b[39m \u001b[90m~/.vscode/extensions/julialang.language-julia-1.65.2/scripts/packages/VSCodeServer/src/\u001b[39m\u001b[90m\u001b[4mserve_notebook.jl:19\u001b[24m\u001b[39m\n",
      "   [12] \u001b[0m\u001b[1mwithpath\u001b[22m\u001b[0m\u001b[1m(\u001b[22m\u001b[90mf\u001b[39m::\u001b[0mVSCodeServer.var\"#208#209\"\u001b[90m{VSCodeServer.NotebookRunCellArguments, String}\u001b[39m, \u001b[90mpath\u001b[39m::\u001b[0mString\u001b[0m\u001b[1m)\u001b[22m\n",
      "  \u001b[90m    @ \u001b[39m\u001b[35mVSCodeServer\u001b[39m \u001b[90m~/.vscode/extensions/julialang.language-julia-1.65.2/scripts/packages/VSCodeServer/src/\u001b[39m\u001b[90m\u001b[4mrepl.jl:274\u001b[24m\u001b[39m\n",
      "   [13] \u001b[0m\u001b[1mnotebook_runcell_request\u001b[22m\u001b[0m\u001b[1m(\u001b[22m\u001b[90mconn\u001b[39m::\u001b[0mVSCodeServer.JSONRPC.JSONRPCEndpoint\u001b[90m{Base.PipeEndpoint, Base.PipeEndpoint}\u001b[39m, \u001b[90mparams\u001b[39m::\u001b[0mVSCodeServer.NotebookRunCellArguments\u001b[0m\u001b[1m)\u001b[22m\n",
      "  \u001b[90m    @ \u001b[39m\u001b[35mVSCodeServer\u001b[39m \u001b[90m~/.vscode/extensions/julialang.language-julia-1.65.2/scripts/packages/VSCodeServer/src/\u001b[39m\u001b[90m\u001b[4mserve_notebook.jl:13\u001b[24m\u001b[39m\n",
      "   [14] \u001b[0m\u001b[1mdispatch_msg\u001b[22m\u001b[0m\u001b[1m(\u001b[22m\u001b[90mx\u001b[39m::\u001b[0mVSCodeServer.JSONRPC.JSONRPCEndpoint\u001b[90m{Base.PipeEndpoint, Base.PipeEndpoint}\u001b[39m, \u001b[90mdispatcher\u001b[39m::\u001b[0mVSCodeServer.JSONRPC.MsgDispatcher, \u001b[90mmsg\u001b[39m::\u001b[0mDict\u001b[90m{String, Any}\u001b[39m\u001b[0m\u001b[1m)\u001b[22m\n",
      "  \u001b[90m    @ \u001b[39m\u001b[35mVSCodeServer.JSONRPC\u001b[39m \u001b[90m~/.vscode/extensions/julialang.language-julia-1.65.2/scripts/packages/JSONRPC/src/\u001b[39m\u001b[90m\u001b[4mtyped.jl:67\u001b[24m\u001b[39m\n",
      "   [15] \u001b[0m\u001b[1mserve_notebook\u001b[22m\u001b[0m\u001b[1m(\u001b[22m\u001b[90mpipename\u001b[39m::\u001b[0mString, \u001b[90moutputchannel_logger\u001b[39m::\u001b[0mBase.CoreLogging.SimpleLogger; \u001b[90mcrashreporting_pipename\u001b[39m::\u001b[0mString\u001b[0m\u001b[1m)\u001b[22m\n",
      "  \u001b[90m    @ \u001b[39m\u001b[35mVSCodeServer\u001b[39m \u001b[90m~/.vscode/extensions/julialang.language-julia-1.65.2/scripts/packages/VSCodeServer/src/\u001b[39m\u001b[90m\u001b[4mserve_notebook.jl:139\u001b[24m\u001b[39m\n",
      "   [16] top-level scope\n",
      "  \u001b[90m    @ \u001b[39m\u001b[90m~/.vscode/extensions/julialang.language-julia-1.65.2/scripts/notebook/\u001b[39m\u001b[90m\u001b[4mnotebook.jl:32\u001b[24m\u001b[39m\n",
      "   [17] \u001b[0m\u001b[1minclude\u001b[22m\u001b[0m\u001b[1m(\u001b[22m\u001b[90mmod\u001b[39m::\u001b[0mModule, \u001b[90m_path\u001b[39m::\u001b[0mString\u001b[0m\u001b[1m)\u001b[22m\n",
      "  \u001b[90m    @ \u001b[39m\u001b[90mBase\u001b[39m \u001b[90m./\u001b[39m\u001b[90m\u001b[4mBase.jl:419\u001b[24m\u001b[39m\n",
      "   [18] \u001b[0m\u001b[1mexec_options\u001b[22m\u001b[0m\u001b[1m(\u001b[22m\u001b[90mopts\u001b[39m::\u001b[0mBase.JLOptions\u001b[0m\u001b[1m)\u001b[22m\n",
      "  \u001b[90m    @ \u001b[39m\u001b[90mBase\u001b[39m \u001b[90m./\u001b[39m\u001b[90m\u001b[4mclient.jl:303\u001b[24m\u001b[39m\n",
      "   [19] \u001b[0m\u001b[1m_start\u001b[22m\u001b[0m\u001b[1m(\u001b[22m\u001b[0m\u001b[1m)\u001b[22m\n",
      "  \u001b[90m    @ \u001b[39m\u001b[90mBase\u001b[39m \u001b[90m./\u001b[39m\u001b[90m\u001b[4mclient.jl:522\u001b[24m\u001b[39m\n",
      "\u001b[0m\u001b[1mTest Summary:      | \u001b[22m"
     ]
    },
    {
     "name": "stdout",
     "output_type": "stream",
     "text": [
      "\u001b[91m\u001b[1mError  \u001b[22m\u001b[39m\u001b[36m\u001b[1mTotal  \u001b[22m\u001b[39m\u001b[0m\u001b[1mTime\u001b[22m\n",
      "Test Consts module | \u001b[91m    1  \u001b[39m\u001b[36m    1  \u001b[39m\u001b[0m0.8s\n"
     ]
    },
    {
     "ename": "TestSetException",
     "evalue": "Some tests did not pass: 0 passed, 0 failed, 1 errored, 0 broken.",
     "output_type": "error",
     "traceback": [
      "Some tests did not pass: 0 passed, 0 failed, 1 errored, 0 broken.\n",
      "\n",
      "Stacktrace:\n",
      " [1] finish(ts::Test.DefaultTestSet)\n",
      "   @ Test /Applications/Julia-1.8.app/Contents/Resources/julia/share/julia/stdlib/v1.8/Test/src/Test.jl:1092\n",
      " [2] macro expansion\n",
      "   @ /Applications/Julia-1.8.app/Contents/Resources/julia/share/julia/stdlib/v1.8/Test/src/Test.jl:1368 [inlined]\n",
      " [3] top-level scope\n",
      "   @ ~/Documents/Codes/Julia/ModuliSpaces.jl/example/GoldbergerWise/dev.ipynb:4"
     ]
    }
   ],
   "source": [
    "using Test\n",
    "\n",
    "@testset \"Test Consts module\" begin\n",
    "using GoldbergerWiseEoM.Consts\n",
    "    @test yₘ == 1e0π\n",
    "    @test u == 1.0e-1\n",
    "    @test ϕP == 1.e-1\n",
    "    @test ϕT == exp(-u * yₘ)*ϕP\n",
    "    @test k == 37u\n",
    "    @test M_IR == exp(-k*yₘ)\n",
    "    @test γ²₀ == 4k+2u\n",
    "end\n"
   ]
  },
  {
   "cell_type": "code",
   "execution_count": null,
   "metadata": {},
   "outputs": [],
   "source": [
    "\n",
    "@testset \"Test AffliatedFunctions module\" begin\n",
    "using GoldbergerWiseEoM.AffliatedFunctions\n",
    "    l² = 1.0 # You may need to adjust this value\n",
    "    y = 1.0 # You may need to adjust this value\n",
    "    φ = 1.0 # You may need to adjust this value\n",
    "    κ = 1.0 # You may need to adjust this value\n",
    "\n",
    "    @test ϕ0(y) == ϕP * (ϕT/ϕP)^(y/yₘ)\n",
    "    @test A(y, l², k, γ²₀) == k * y + l²/6 * (ϕT/ϕP)^(2y/yₘ)\n",
    "    @test A′(y, l², k, γ²₀) == k + l²/6 * (ϕT/ϕP)^(2y/yₘ)* (-2u)\n",
    "    @test A′′(y, l², k, γ²₀) == l²/6 * (ϕT/ϕP)^(2y/yₘ)* 4u^2\n",
    "    @test λP′(φ, l², k, γ²₀) == -2u * (ϕP + φ)\n",
    "    @test λT′(φ, l², k, γ²₀) == 2u * (ϕT + φ)\n",
    "    @test λP′′(φ, l², k, γ²₀) == 2γ²₀\n",
    "    @test λT′′(φ, l², k, γ²₀) == 2γ²₀\n",
    "    @test W(ϕ, κ, k, u) == 6k/κ^2  - u*ϕ^2\n",
    "    @test W′(ϕ, κ, k, u) == - 2u*ϕ\n",
    "    @test V(W, ϕ, κ, k, u) == 1/8 * (W′(ϕ, κ, k, u))^2 - κ^2 / 6 * W(ϕ, κ, k, u)^2\n",
    "end\n",
    "\n",
    "@testset \"Test EoMs module\" begin\n",
    "using GoldbergerWiseEoM.EoMs\n",
    "    l² = 1.0 # You may need to adjust this value\n",
    "    y = 1.0 # You may need to adjust this value\n",
    "    m² = 1.0 # You may need to adjust this value\n",
    "\n",
    "    @test P(y, l², k, γ²₀) == 2u - 2A′(y, l², k, γ²₀)\n",
    "    @test Q(y, l², k, γ²₀, m²) == m² * exp(2A(y, l², k, γ²₀)) - 4A′′(y, l², k, γ²₀) - 4u*A′(y, l², k, γ²₀)\n",
    "end"
   ]
  }
 ],
 "metadata": {
  "kernelspec": {
   "display_name": "Julia 1.8.2",
   "language": "julia",
   "name": "julia-1.8"
  },
  "language_info": {
   "file_extension": ".jl",
   "mimetype": "application/julia",
   "name": "julia",
   "version": "1.8.2"
  }
 },
 "nbformat": 4,
 "nbformat_minor": 2
}
