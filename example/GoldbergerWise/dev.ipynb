{
 "cells": [
  {
   "cell_type": "code",
   "execution_count": 1,
   "metadata": {},
   "outputs": [],
   "source": [
    "using Revise"
   ]
  },
  {
   "cell_type": "code",
   "execution_count": null,
   "metadata": {},
   "outputs": [
    {
     "data": {
      "text/plain": [
       "Main.Solvers"
      ]
     },
     "metadata": {},
     "output_type": "display_data"
    }
   ],
   "source": [
    "include(\"eom.jl\")"
   ]
  },
  {
   "cell_type": "markdown",
   "metadata": {},
   "source": [
    "# AppDev"
   ]
  },
  {
   "cell_type": "code",
   "execution_count": 34,
   "metadata": {},
   "outputs": [
    {
     "data": {
      "text/plain": [
       "errBCwithφ (generic function with 1 method)"
      ]
     },
     "metadata": {},
     "output_type": "display_data"
    }
   ],
   "source": [
    "\n",
    "using DifferentialEquations\n",
    "using .GoldbergerWiseEoM.EoMs\n",
    "import .GoldbergerWiseEoM.Consts: yₘ, k, M_IR, γ²₀, u\n",
    "using .GoldbergerWiseEoM.AffliatedFunctions: ϕ0, A, A′\n",
    "using .GoldbergerWiseEoM.BCs\n",
    "\n",
    "# # EoM of φ, obtained from the zero solution of the Einstein eq #(3.12)\n",
    "function getφ(solF::ODESolution, params) \n",
    "    l², k, γ², m²= params\n",
    "    F(y::Number)  = solF(y)[2]\n",
    "    F′(y::Number) = solF(y)[1]\n",
    "    φ(y::Number)  = -3ϕP^2/(2u*l²*ϕ0(y)) * (F′(y) - 2A′(y, l², k, γ²)*F(y))  #(3.12)\n",
    "    return φ\n",
    "end\n",
    "function eom!(ddf, df, f, params, y)\n",
    "    F  = f[1]\n",
    "    F′ = df[1]\n",
    "    dF′ = -P(y,params)*F′ -Q(y,params)*F#(3.17)\n",
    "    ddf[1]=dF′\n",
    "end\n",
    "function solveODE(FP, params)\n",
    "    yspan = (0.0,yₘ)\n",
    "    F′P= dFP(FP, params)\n",
    "    prob = SecondOrderODEProblem(eom!,[F′P], [FP],yspan, params)\n",
    "    # return solve(prob, Tsit5())\n",
    "    return solve(prob, ImplicitEuler())\n",
    "    # return solve(prob, Rosenbrock23())\n",
    "end\n",
    "function errBCwithφ(params; FP = 1.)\n",
    "    Fsol = solveODE(FP, params)\n",
    "    FT′,FT = Fsol(yₘ)\n",
    "    return Δφ′T(FT, FT′, params)\n",
    "end"
   ]
  },
  {
   "cell_type": "code",
   "execution_count": 32,
   "metadata": {},
   "outputs": [
    {
     "data": {
      "text/plain": [
       "paramsearch (generic function with 1 method)"
      ]
     },
     "metadata": {},
     "output_type": "display_data"
    }
   ],
   "source": [
    "function paramsearch(;l2=nothing, g2=nothing, FP = 1., φP = 1., k=37u)\n",
    "    if !isnothing(g2) && isnothing(l2)\n",
    "        function paramsearch_l2_m2(l2, m2)\n",
    "            params = (l2, k, g2, m2)\n",
    "            return errBCwithφ(params , FP = FP)\n",
    "        end\n",
    "        return paramsearch_l2_m2\n",
    "    elseif isnothing(g2) && !isnothing(l2)\n",
    "        function paramserch_g2_m2(g2, m2)\n",
    "            params = (l2, k, g2, m2)\n",
    "            return errBCwithφ(params, FP = FP)\n",
    "        end\n",
    "        return paramserch_g2_m2\n",
    "    end\n",
    "end"
   ]
  },
  {
   "cell_type": "code",
   "execution_count": 49,
   "metadata": {},
   "outputs": [],
   "source": [
    "include(\"LazyMatrices.jl\")\n",
    "include(\"TurtleSearch.jl\")\n",
    "import .LazyMatrices as lm\n",
    "import .TurtleSearch as tt"
   ]
  },
  {
   "cell_type": "code",
   "execution_count": 50,
   "metadata": {},
   "outputs": [],
   "source": [
    "using Plots, LaTeXStrings"
   ]
  },
  {
   "cell_type": "code",
   "execution_count": 51,
   "metadata": {},
   "outputs": [
    {
     "data": {
      "text/plain": [
       "nextpose (generic function with 1 method)"
      ]
     },
     "metadata": {},
     "output_type": "display_data"
    }
   ],
   "source": [
    "function nextpose(poses, m)\n",
    "    t = tt.Turtles(max(poses...))\n",
    "    inds = tt.bisearch(t, m)\n",
    "    xs = [m.xaxis(inds[1])]\n",
    "    ys = [m.yaxis(inds[2])]\n",
    "    while !isnothing(tt.next!(t, m))\n",
    "        inds = tt.bisearch(t, m)\n",
    "        push!(xs,m.xaxis(inds[1]))\n",
    "        push!(ys,m.yaxis(inds[2]))\n",
    "    end\n",
    "    poses = tt.findfirstseed!(m, map(x->x+CartesianIndex(0,1), poses)...)\n",
    "    return xs, ys, poses\n",
    "end"
   ]
  },
  {
   "cell_type": "code",
   "execution_count": 53,
   "metadata": {},
   "outputs": [
    {
     "data": {
      "text/plain": [
       "g2_m2_numerical (generic function with 4 methods)"
      ]
     },
     "metadata": {},
     "output_type": "display_data"
    }
   ],
   "source": [
    "function g2_m2_numerical(l2, xrange, yrange, u=u, k=k; ylogscaled = false, nSeeds = 1)\n",
    "    paramsearch_g2_m2 = paramsearch(l2=l2)\n",
    "    m = lm.LazyMatrix(zeros(10,10), paramsearch_g2_m2, xrange, yrange, ylogscaled = ylogscaled)\n",
    "    poses = tt.findfirstseed!(m, CartesianIndex(1, 1), CartesianIndex(1, 2))\n",
    "    @assert !isnothing(poses) \"no seed found\"\n",
    "    g2_m2 = []\n",
    "    for i = 1:nSeeds\n",
    "        g2s, m2s, poses = nextpose(poses, m)\n",
    "        push!(g2_m2, (g2s, m2s))\n",
    "    end\n",
    "    return g2_m2\n",
    "end"
   ]
  },
  {
   "cell_type": "markdown",
   "metadata": {},
   "source": [
    "# Tests"
   ]
  },
  {
   "cell_type": "code",
   "execution_count": 54,
   "metadata": {},
   "outputs": [
    {
     "data": {
      "text/plain": [
       "1-element Vector{Any}:\n",
       " ([1.2589254117941673, 14.391480340317317, 1.2589254117941673], [128.7844066117013, 199.52623149688807, 1425.6204162488925])"
      ]
     },
     "metadata": {},
     "output_type": "display_data"
    }
   ],
   "source": [
    "g2_m2 = g2_m2_numerical(1., 0.1:0.1:10., 0.1:0.1:10., ylogscaled = true, nSeeds = 1)"
   ]
  },
  {
   "cell_type": "code",
   "execution_count": 45,
   "metadata": {},
   "outputs": [
    {
     "data": {
      "text/plain": [
       "(::var\"#paramsearch_l2_m2#19\"{Float64, Float64, Float64}) (generic function with 1 method)"
      ]
     },
     "metadata": {},
     "output_type": "display_data"
    }
   ],
   "source": [
    "f1 = paramsearch(l2=1e-1)\n",
    "f2 = paramsearch(g2=1e-1)"
   ]
  },
  {
   "cell_type": "code",
   "execution_count": 48,
   "metadata": {},
   "outputs": [
    {
     "data": {
      "text/plain": [
       "30-element Vector{Float64}:\n",
       "  0.020563624634772147\n",
       " -0.02568600667323703\n",
       " -0.0014465680432353704\n",
       "  0.0005575510146329816\n",
       " -0.0001966282934133338\n",
       "  0.0005938100454557213\n",
       "  0.003190685438652288\n",
       "  0.0011733082958349308\n",
       "  0.0013655811116765793\n",
       "  0.00030162514230388767\n",
       "  ⋮\n",
       "  0.0024361099700218446\n",
       " -0.0002484871952538614\n",
       " -0.0018602050773429823\n",
       " -0.005811573925077994\n",
       " -0.0004795002214129466\n",
       " -0.0007607720082967232\n",
       "  0.011887401195513935\n",
       " -0.006160346806593497\n",
       "  0.013006123287789422"
      ]
     },
     "metadata": {},
     "output_type": "display_data"
    }
   ],
   "source": [
    "x = range(1e-1, 1, 30)\n",
    "f1.(1., x) .- f2.(1., x)"
   ]
  },
  {
   "cell_type": "code",
   "execution_count": null,
   "metadata": {},
   "outputs": [
    {
     "data": {
      "text/plain": [
       "68.96856747818345"
      ]
     },
     "metadata": {},
     "output_type": "display_data"
    }
   ],
   "source": [
    "using .GoldbergerWiseEoM.BCs\n",
    "FP = 1.0\n",
    "params = (1.0, 1.0, 1.0, 1.0)  # You may need to adjust these values\n",
    "    # Test the solveODE function\n",
    "sol = solveODE(FP, params)\n",
    "Δφ′T(FP, sol(yₘ)[1], params)"
   ]
  },
  {
   "cell_type": "code",
   "execution_count": null,
   "metadata": {},
   "outputs": [
    {
     "data": {
      "text/plain": [
       "Test.DefaultTestSet(\"Test solveODE function\", Any[], 1, false, false, true, 1.704372527410951e9, 1.70437252744382e9)"
      ]
     },
     "metadata": {},
     "output_type": "display_data"
    }
   ],
   "source": [
    "using Test\n",
    "using .GoldbergerWiseEoM.BCs\n",
    "using DifferentialEquations\n",
    "# using LinearAlgebra: norm\n",
    "\n",
    "@testset \"Test solveODE function\" begin\n",
    "    # Define some test parameters\n",
    "    FP = 1.0\n",
    "    params = (1.0, 1.0, 1.0, 1.0)  # You may need to adjust these values\n",
    "    # Test the solveODE function\n",
    "    sol = solveODE(FP, params)\n",
    "    # println( sol(yₘ))\n",
    "    Δφ′T(FP, sol(yₘ)[1], params)\n",
    "    errBCwithφ(params)\n",
    "\n",
    "    # Check that the solution is a valid DifferentialEquations solution\n",
    "    @test isa(sol, DifferentialEquations.ODESolution)\n",
    "    \n",
    "\n",
    "    # Check that the solution satisfies the boundary conditions\n",
    "    # You may need to adjust these tests based on your specific boundary conditions\n",
    "end"
   ]
  },
  {
   "cell_type": "code",
   "execution_count": 13,
   "metadata": {},
   "outputs": [
    {
     "name": "stdout",
     "output_type": "stream",
     "text": [
      "\u001b[0m\u001b[1mTest Summary:      | \u001b[22m\u001b[32m\u001b[1mPass  \u001b[22m\u001b[39m\u001b[36m\u001b[1mTotal  \u001b[22m\u001b[39m\u001b[0m\u001b[1mTime\u001b[22m\n",
      "Test Consts module | \u001b[32m   7  \u001b[39m\u001b[36m    7  \u001b[39m\u001b[0m0.0s\n"
     ]
    },
    {
     "data": {
      "text/plain": [
       "Test.DefaultTestSet(\"Test Consts module\", Any[], 7, false, false, true, 1.704359214394436e9, 1.70435921442188e9)"
      ]
     },
     "metadata": {},
     "output_type": "display_data"
    }
   ],
   "source": [
    "using Test\n",
    "\n",
    "@testset \"Test Consts module\" begin\n",
    "using .GoldbergerWiseEoM.Consts\n",
    "    @test yₘ == 1e0π\n",
    "    @test u == 1.0e-1\n",
    "    @test ϕP == 1.e-1\n",
    "    @test ϕT == exp(-u * yₘ)*ϕP\n",
    "    @test k == 37u\n",
    "    @test M_IR == exp(-k*yₘ)\n",
    "    @test γ²₀ == 4k+2u\n",
    "end\n"
   ]
  },
  {
   "cell_type": "code",
   "execution_count": 16,
   "metadata": {},
   "outputs": [
    {
     "name": "stdout",
     "output_type": "stream",
     "text": [
      "\u001b[0m\u001b[1mTest Summary:                  | \u001b[22m\u001b[32m\u001b[1mPass  \u001b[22m\u001b[39m\u001b[36m\u001b[1mTotal  \u001b[22m\u001b[39m\u001b[0m\u001b[1mTime\u001b[22m\n",
      "Test AffliatedFunctions module | \u001b[32m  11  \u001b[39m\u001b[36m   11  \u001b[39m\u001b[0m0.0s\n"
     ]
    },
    {
     "data": {
      "text/plain": [
       "Test.DefaultTestSet(\"Test AffliatedFunctions module\", Any[], 11, false, false, true, 1.704359289091334e9, 1.704359289101345e9)"
      ]
     },
     "metadata": {},
     "output_type": "display_data"
    }
   ],
   "source": [
    "\n",
    "@testset \"Test AffliatedFunctions module\" begin\n",
    "using .GoldbergerWiseEoM.AffliatedFunctions\n",
    "    # You may need to adjust these value\n",
    "    l² = 1.0 \n",
    "    y = 1.0 \n",
    "    φ = 1.0 \n",
    "    κ = 1.0 \n",
    "    ϕ = 1.0 \n",
    "\n",
    "    @test ϕ0(y) == ϕP * (ϕT/ϕP)^(y/yₘ)\n",
    "    @test A(y, l², k, γ²₀) == k * y + l²/6 * (ϕT/ϕP)^(2y/yₘ)\n",
    "    @test A′(y, l², k, γ²₀) == k + l²/6 * (ϕT/ϕP)^(2y/yₘ)* (-2u)\n",
    "    @test A′′(y, l², k, γ²₀) == l²/6 * (ϕT/ϕP)^(2y/yₘ)* 4u^2\n",
    "    @test λP′(φ, l², k, γ²₀) == -2u * (ϕP + φ)\n",
    "    @test λT′(φ, l², k, γ²₀) == 2u * (ϕT + φ)\n",
    "    @test λP′′(φ, l², k, γ²₀) == 2γ²₀\n",
    "    @test λT′′(φ, l², k, γ²₀) == 2γ²₀\n",
    "    @test W(ϕ, κ, k, u) == 6k/κ^2  - u*ϕ^2\n",
    "    @test W′(ϕ, κ, k, u) == - 2u*ϕ\n",
    "    @test V(W, ϕ, κ, k, u) == 1/8 * (W′(ϕ, κ, k, u))^2 - κ^2 / 6 * W(ϕ, κ, k, u)^2\n",
    "end\n"
   ]
  },
  {
   "cell_type": "code",
   "execution_count": 2,
   "metadata": {},
   "outputs": [
    {
     "name": "stdout",
     "output_type": "stream",
     "text": [
      "P(y, l², k, γ²₀, m²) = -1.7454179497948012\n",
      "Q(y, l², k, γ²₀, m²) = 9.296694920112756\n",
      "RR(params) = -0.009999999999999988\n",
      "SS(params) = "
     ]
    },
    {
     "name": "stdout",
     "output_type": "stream",
     "text": [
      "-64.19132447180202\n"
     ]
    },
    {
     "name": "stdout",
     "output_type": "stream",
     "text": [
      "\u001b[0m\u001b[1mTest Summary:    |\u001b[22m\u001b[0m\u001b[1mTime\u001b[22m\n",
      "Test EoMs module | \u001b[36mNone  \u001b[39m\u001b[0m0.1s\n"
     ]
    },
    {
     "data": {
      "text/plain": [
       "Test.DefaultTestSet(\"Test EoMs module\", Any[], 0, false, false, true, 1.704370431046375e9, 1.704370431171003e9)"
      ]
     },
     "metadata": {},
     "output_type": "display_data"
    }
   ],
   "source": [
    "using Test\n",
    "@testset \"Test EoMs module\" begin\n",
    "using .GoldbergerWiseEoM.EoMs\n",
    "    l² = 1.0 # You may need to adjust this value\n",
    "    y = 1.0 # You may need to adjust this value\n",
    "    m² = 1.0 # You may need to adjust this value\n",
    "    k = 1.\n",
    "    γ²₀ = 1.\n",
    "    params = (l², k, γ²₀, m²)\n",
    "\n",
    "    @show P(y, l², k, γ²₀, m²) \n",
    "    @show Q(y, l², k, γ²₀, m²) \n",
    "    @show RR(params)\n",
    "    @show SS(params)\n",
    "end"
   ]
  },
  {
   "cell_type": "code",
   "execution_count": 3,
   "metadata": {},
   "outputs": [
    {
     "name": "stdout",
     "output_type": "stream",
     "text": [
      "dφT(F, FF, params) = -0.014083017295517995\n",
      "dFP(F, l², k, γ²₀, m²) = 3.041210628569292e14\n",
      "dFP(F, params) = 3.041210628569292e14\n",
      "Δφ′T(F, FF, params) = 2.8299831196116436e8\n"
     ]
    },
    {
     "name": "stdout",
     "output_type": "stream",
     "text": [
      "\u001b[0m\u001b[1mTest Summary: |\u001b[22m\u001b[0m\u001b[1mTime\u001b[22m\n",
      "BCs test      | \u001b[36mNone  \u001b[39m\u001b[0m0.1s\n"
     ]
    },
    {
     "data": {
      "text/plain": [
       "Test.DefaultTestSet(\"BCs test\", Any[], 0, false, false, true, 1.704370725915171e9, 1.70437072603553e9)"
      ]
     },
     "metadata": {},
     "output_type": "display_data"
    }
   ],
   "source": [
    "using Test\n",
    "@testset \"BCs test\" begin\n",
    "using .GoldbergerWiseEoM.BCs\n",
    "    l² = 1.e2 # You may need to adjust this value\n",
    "    k = 1.0 \n",
    "    γ²₀ = 1.0e-2 \n",
    "    m² = 1e-1\n",
    "    FP = 1.0 \n",
    "    F = 1.0\n",
    "    FF= 1.0\n",
    "    params = (l², k, γ²₀, m²)\n",
    "\n",
    "    @show dφT(F, FF, params)\n",
    "    @show dFP(F, l², k, γ²₀, m²)\n",
    "    @show dFP(F, params)\n",
    "    @show Δφ′T(F, FF, params)\n",
    "end"
   ]
  },
  {
   "cell_type": "code",
   "execution_count": 58,
   "metadata": {},
   "outputs": [
    {
     "data": {
      "text/html": [
       "# 1 method for generic function <b>dFP</b>:<ul><li> dFP(FP, l², k, γ², m²) in Main.GoldbergerWiseEoM.BCs at <a href=\"https://github.com/yardw/ModuliSpaces.jl/tree/0984343a2c44e252c8166cc82d3cc74871ca3576//example/GoldbergerWise/eom.jl#L89\" target=\"_blank\">/Users/outk/Documents/Codes/Julia/ModuliSpaces.jl/example/GoldbergerWise/eom.jl:89</a></li> </ul>"
      ],
      "text/plain": [
       "# 1 method for generic function \"dFP\":\n",
       "[1] dFP(FP, l², k, γ², m²) in Main.GoldbergerWiseEoM.BCs at /Users/outk/Documents/Codes/Julia/ModuliSpaces.jl/example/GoldbergerWise/eom.jl:89"
      ]
     },
     "metadata": {},
     "output_type": "display_data"
    }
   ],
   "source": [
    "methods(GoldbergerWiseEoM.BCs.dFP)"
   ]
  }
 ],
 "metadata": {
  "kernelspec": {
   "display_name": "Julia 1.8.2",
   "language": "julia",
   "name": "julia-1.8"
  },
  "language_info": {
   "file_extension": ".jl",
   "mimetype": "application/julia",
   "name": "julia",
   "version": "1.8.2"
  }
 },
 "nbformat": 4,
 "nbformat_minor": 2
}
