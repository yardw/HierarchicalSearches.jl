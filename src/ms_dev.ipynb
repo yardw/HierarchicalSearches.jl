{
 "cells": [
  {
   "cell_type": "code",
   "execution_count": 1,
   "metadata": {},
   "outputs": [
    {
     "data": {
      "text/html": [
       "# 1 method for builtin function <b>isa</b>:<ul><li> isa(...) in Core</li> </ul>"
      ],
      "text/plain": [
       "# 1 method for builtin function \"isa\":\n",
       "[1] isa(...) in Core"
      ]
     },
     "metadata": {},
     "output_type": "display_data"
    }
   ],
   "source": [
    "methods(isa)"
   ]
  },
  {
   "cell_type": "code",
   "execution_count": 2,
   "metadata": {},
   "outputs": [
    {
     "ename": "TypeError",
     "evalue": "TypeError: in isa, expected Type, got a value of type Int64",
     "output_type": "error",
     "traceback": [
      "TypeError: in isa, expected Type, got a value of type Int64\n",
      "\n",
      "Stacktrace:\n",
      " [1] top-level scope\n",
      "   @ ~/Documents/Codes/Julia/ModuliSpaces.jl/src/ms_dev.ipynb:1"
     ]
    }
   ],
   "source": [
    "\"\"\"\n",
    "    Space\n",
    "\n",
    "Abstract type for a space. A space should be described by S={x|fi(x)= 0}, which yields a set of constraints for elements x belong to the set S. \n",
    "\"\"\"\n",
    "abstract type Space end\n",
    "\"\"\"\n",
    "    Element\n",
    "    \n",
    "Abstract type for an element. An element should be described by a set of parameters, which can exclusively identify the element. \n",
    "\"\"\"\n",
    "abstract type Element end\n"
   ]
  },
  {
   "cell_type": "code",
   "execution_count": null,
   "metadata": {},
   "outputs": [],
   "source": [
    "isa(x, X0) = "
   ]
  }
 ],
 "metadata": {
  "kernelspec": {
   "display_name": "Julia 1.8.2",
   "language": "julia",
   "name": "julia-1.8"
  },
  "language_info": {
   "file_extension": ".jl",
   "mimetype": "application/julia",
   "name": "julia",
   "version": "1.8.2"
  }
 },
 "nbformat": 4,
 "nbformat_minor": 2
}
