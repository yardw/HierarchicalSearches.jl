{
 "cells": [
  {
   "cell_type": "code",
   "execution_count": 1,
   "metadata": {},
   "outputs": [
    {
     "data": {
      "text/html": [
       "# 1 method for builtin function <b>isa</b>:<ul><li> isa(...) in Core</li> </ul>"
      ],
      "text/plain": [
       "# 1 method for builtin function \"isa\":\n",
       "[1] isa(...) in Core"
      ]
     },
     "metadata": {},
     "output_type": "display_data"
    }
   ],
   "source": [
    "methods(isa)"
   ]
  },
  {
   "cell_type": "code",
   "execution_count": 2,
   "metadata": {},
   "outputs": [
    {
     "ename": "TypeError",
     "evalue": "TypeError: in isa, expected Type, got a value of type Int64",
     "output_type": "error",
     "traceback": [
      "TypeError: in isa, expected Type, got a value of type Int64\n",
      "\n",
      "Stacktrace:\n",
      " [1] top-level scope\n",
      "   @ ~/Documents/Codes/Julia/ModuliSpaces.jl/src/ms_dev.ipynb:1"
     ]
    }
   ],
   "source": [
    "\"\"\"\n",
    "    Space\n",
    "\n",
    "Abstract type for a space. A space should be described by S={x|fi(x)= 0}, which yields a set of constraints for elements x belong to the set S. \n",
    "\"\"\"\n",
    "abstract type Space end\n",
    "\"\"\"\n",
    "    Element\n",
    "    \n",
    "Abstract type for an element. An element should be described by a set of parameters, which can exclusively identify the element. \n",
    "\"\"\"\n",
    "abstract type Element end\n"
   ]
  },
  {
   "cell_type": "code",
   "execution_count": 2,
   "metadata": {},
   "outputs": [
    {
     "ename": "ErrorException",
     "evalue": "cannot add methods to a builtin function",
     "output_type": "error",
     "traceback": [
      "cannot add methods to a builtin function\n",
      "\n",
      "Stacktrace:\n",
      " [1] top-level scope\n",
      "   @ ~/Documents/Codes/Julia/ModuliSpaces.jl/src/ms_dev.ipynb:2"
     ]
    }
   ],
   "source": [
    "abstract type AbstractClass end\n",
    "Core.isa(x, X0::T) where {T<:AbstractClass} = myisa(x, T)\n",
    "myisa(x, T) where {X0<:AbstractClass} = println(\"myisa\")"
   ]
  },
  {
   "cell_type": "code",
   "execution_count": 13,
   "metadata": {},
   "outputs": [],
   "source": [
    "import Base.:∈\n",
    "Base.:∈(y, Y0::T) where {T<:AbstractClass}  = println(\"$(Y0) is an AbstractClass\")"
   ]
  },
  {
   "cell_type": "code",
   "execution_count": 14,
   "metadata": {},
   "outputs": [
    {
     "name": "stdout",
     "output_type": "stream",
     "text": [
      "ODESol() is an AbstractClass\n"
     ]
    }
   ],
   "source": [
    "struct ODESol <: AbstractClass end\n",
    "1 ∈ ODESol()"
   ]
  },
  {
   "cell_type": "code",
   "execution_count": null,
   "metadata": {},
   "outputs": [],
   "source": [
    "function priori_dfs(f::Function, X::T1, Y0, x0::T2) where {T1<:AbstractArray, T2}\n",
    "    # create a closure for the function priori_dfs!\n",
    "    get_priority(x) = f(x) ∈ Y0\n",
    "    function init_stack_from(x0)\n",
    "        list = [x0]\n",
    "        sizehint!(list, sum(size(X)))\n",
    "        return list\n",
    "    end\n",
    "    function init_path()\n",
    "        list = T2[]\n",
    "        sizehint!(list, sum(size(X)))\n",
    "        return list\n",
    "    end\n",
    "    N = ndims(X)\n",
    "    adjacents = (CartesianIndex{N}([n==n0 ? sgn : 0 for n in 1:N]...) for sgn in (1,-1) for n0 in 1:N)\n",
    "    adjacent(x0) = x0 .+ adjacents\n",
    "    isvisited = falses(size(X)...)\n",
    "    paths = []\n",
    "\n",
    "    function priori_dfs(x0; goal_priority=0)\n",
    "        isvisited[x0] = true # mark x0 as visited\n",
    "        path = init_path() # initialize a new path starting with x0\n",
    "        \n",
    "        # start searching\n",
    "        stack = init_stack_from(x0) # initialize a stack with x0\n",
    "        while !isempty(stack) # while the stack is not empty\n",
    "            x = pop!(stack) # pop the last element from the stack, and name it as x\n",
    "            push!(path, x) # push x to the path\n",
    "            isendpoint = true # indicate that current position is an endpoint of path\n",
    "    \n",
    "            # push all valid adjacent vertices of x into the stack, and check if x is an endpoint\n",
    "            for y in adjacent(x) # for all adjacent vertices of x\n",
    "                # check if y is reachable\n",
    "                if !checkbounds(Bool, isvisited, y) continue end # if y is out of bound, skip it\n",
    "                if isvisited[y] continue end # if y has been visited, skip it\n",
    "                isvisited[y] = true # mark y as visited\n",
    "                isendpoint = false # since y is reachable, the current position is not an endpoint\n",
    "    \n",
    "                # check if y is a goal\n",
    "                priority = get_priority(y) # compute the priority of y\n",
    "                if priority < goal_priority continue end # if the priority of y is smaller than the global priority, skip it \n",
    "                if priority > goal_priority # if the priority of y is larger than the global priority\n",
    "                    push!(paths, (path=path, goal_priority=goal_priority)) # archive the current path\n",
    "                    goal_priority = priority # update the global priority\n",
    "                    stack = init_stack_from(y) # initialize a new stack starting with y\n",
    "                    path  = init_path() # initialize a new path starting with y\n",
    "                    break # stop searching for adjacent vertices of x   \n",
    "                end\n",
    "    \n",
    "                # since y have to be the goal, we just push it to the current stack\n",
    "                push!(stack, y) # push y to the stack\n",
    "            end\n",
    "    \n",
    "            if isendpoint # if the current position is an endpoint\n",
    "                push!(paths, (path=path, goal_priority=goal_priority)) # archive the current path\n",
    "                path = init_path() # initialize a new path starting with x\n",
    "            end\n",
    "        end\n",
    "        \n",
    "        return paths, isvisited\n",
    "    end\n",
    "    return priori_dfs\n",
    "end\n"
   ]
  },
  {
   "cell_type": "code",
   "execution_count": 3,
   "metadata": {},
   "outputs": [
    {
     "ename": "TypeError",
     "evalue": "TypeError: in isa, expected Type, got a value of type Int64",
     "output_type": "error",
     "traceback": [
      "TypeError: in isa, expected Type, got a value of type Int64\n",
      "\n",
      "Stacktrace:\n",
      " [1] top-level scope\n",
      "   @ ~/Documents/Codes/Julia/ModuliSpaces.jl/src/ms_dev.ipynb:1"
     ]
    }
   ],
   "source": [
    "1 isa 2"
   ]
  }
 ],
 "metadata": {
  "kernelspec": {
   "display_name": "Julia 1.8.2",
   "language": "julia",
   "name": "julia-1.8"
  },
  "language_info": {
   "file_extension": ".jl",
   "mimetype": "application/julia",
   "name": "julia",
   "version": "1.8.2"
  }
 },
 "nbformat": 4,
 "nbformat_minor": 2
}
