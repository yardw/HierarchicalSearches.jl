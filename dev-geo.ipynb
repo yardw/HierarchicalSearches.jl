{
 "cells": [
  {
   "cell_type": "markdown",
   "metadata": {},
   "source": [
    "# Interfaces"
   ]
  },
  {
   "cell_type": "code",
   "execution_count": null,
   "metadata": {},
   "outputs": [],
   "source": [
    "abstract type SimpliticalComplex{N,T} end\n",
    "function union end\n",
    "function skeleton end\n",
    "function intersect end\n",
    "abstract type Simplex{N,T} end\n",
    "Point{T} = Simplex{0,T}\n",
    "Line{T} = Simplex{1,T}\n",
    "Triangle{T} = Simplex{2,T}\n",
    "function span end\n",
    "function boundary end\n",
    "function intersect end"
   ]
  },
  {
   "cell_type": "code",
   "execution_count": null,
   "metadata": {},
   "outputs": [],
   "source": [
    "\"\"\"\n",
    "    measure(alg::AlgorithmStyle, domain::Tuple{Simplex,Simplex})::Number\n",
    "    measure(domain::Tuple{DualSimplex,Simplex})::Number\n",
    "    measure(domain::Tuple{Form, Simplex})::Number\n",
    "\n",
    "A measure is a functional that maps two simplexes to a number.\n",
    "# Examples\n",
    "```jldoctest\n",
    "julia> measure(inner_product, #dot product in 1-dimension\n",
    "              (Point([2.0]), Point([3.0]))\n",
    "       )\n",
    "6.0\n",
    "julia> measure(inner_product, #dot product in 2-dimension\n",
    "              (Point([2.0, 1.0]), Point([3.0, 4.0]))\n",
    "       )\n",
    "10.0\n",
    "```\n",
    "\n",
    "```jldoctest\n",
    "julia> measure(spanned_volume, #p+q+1 = 0+0+1 = 1 distance between two points\n",
    "              (Point([2.0]), Point([3.0]))\n",
    "       )\n",
    "-1.0\n",
    "julia> measure(spanned_volume, #p+q+1 = 0+1+1 = 2 area of a triangle\n",
    "              (Point([0,0]), \n",
    "               Line(\n",
    "                    Point([0,1]),\n",
    "                    Point([1,0])\n",
    "                   )\n",
    "               )\n",
    "       )\n",
    "1//2\n",
    "juila> measure(spanned_volume, #p+q+1 = 0+2+1 = 3 volume of a tetrahedron\n",
    "               (Point([0,0,0]),\n",
    "                Triangle(\n",
    "                         Point([0,1,0]),\n",
    "                         Point([1,0,0]),\n",
    "                         Point([0,0,1])\n",
    "                        )\n",
    "               )\n",
    "       )\n",
    "1//6\n",
    "juila> measure(spanned_volume, #p+q+1 = 1+1+1 = 3 volume of a tetrahedron\n",
    "               (Line(\n",
    "                     Point([0,0,0]),\n",
    "                     Point([0,1,0])\n",
    "                    ),\n",
    "                Line(\n",
    "                     Point([1,0,0]),\n",
    "                     Point([0,0,1])\n",
    "                    )\n",
    "               )\n",
    "       )\n",
    "1//6\n",
    "```\n",
    "\"\"\"\n",
    "function measure end \n",
    "abstract type AlgorithmStyle end\n",
    "\"\"\"\n",
    "    InnerProduct\n",
    "- 0-simplex: nothing\n",
    "- 1-simplex: dot product\n",
    "- 2-simplex: measure the area\n",
    "\"\"\"\n",
    "struct InnerProduct <: AlgorithmStyle end\n",
    "\"\"\"\n",
    "    SpannedVolume\n",
    "The spanned volume is the volume of the simplex spanned by the two simplexes.\n",
    "The volume V = sqrt(det(g)) where g is the gram matrix of the two simplexes.\n",
    "\"\"\"\n",
    "struct SpannedVolume <: AlgorithmStyle end"
   ]
  },
  {
   "cell_type": "code",
   "execution_count": null,
   "metadata": {},
   "outputs": [],
   "source": [
    "\"\"\"\n",
    "    operate(alg::Function, domain::Tuple{Simplex,Simplex})::Simplex\n",
    "    operate(domain::Tuple{Number,Simplex})::SimpliticalComplex\n",
    "\"\"\"\n",
    "function operate end"
   ]
  },
  {
   "cell_type": "code",
   "execution_count": null,
   "metadata": {},
   "outputs": [],
   "source": [
    "function span end\n",
    "function union end\n",
    "function intersect end"
   ]
  },
  {
   "cell_type": "markdown",
   "metadata": {},
   "source": [
    "# Test"
   ]
  },
  {
   "cell_type": "markdown",
   "metadata": {},
   "source": [
    "# Implementation"
   ]
  }
 ],
 "metadata": {
  "kernelspec": {
   "display_name": "Julia 1.9.0",
   "language": "julia",
   "name": "julia-1.9"
  },
  "language_info": {
   "file_extension": ".jl",
   "mimetype": "application/julia",
   "name": "julia",
   "version": "1.9.0"
  }
 },
 "nbformat": 4,
 "nbformat_minor": 2
}
